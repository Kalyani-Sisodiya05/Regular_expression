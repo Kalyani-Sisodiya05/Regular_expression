{
 "cells": [
  {
   "cell_type": "code",
   "execution_count": 19,
   "metadata": {},
   "outputs": [],
   "source": [
    "text =\"\"\"ÿþ                       THE UNION OF INDIA\n",
    "\n",
    "       MAHARASHTRA STATE MOTOR DRIVING LICENCE\n",
    "\n",
    "\n",
    "\n",
    "       DL No :MH08 20110006474        DOl : 19-05-2011\n",
    "\n",
    "   ,-Tra Valid Till : 18-05-2031 (NT)\n",
    "\n",
    "                                                           FOR 7 \n",
    "\n",
    "                    AUTHORISATION TO DRIVE FOLLOWING CLASS RULEM 16 (2)\n",
    "\n",
    "\n",
    "\n",
    "                    OF VEHICLES THROUGHOUT INDIA\n",
    "\n",
    "                    COV       DOI\n",
    "\n",
    "                    LMV     19-05-2011\n",
    "\n",
    "                    MCWG    19-05-2011\n",
    "\n",
    "\n",
    "\n",
    "\n",
    "\n",
    "\n",
    "\n",
    "\n",
    "\n",
    "\n",
    "\n",
    "                    DOB :   05-04-1991 BG : A+\n",
    "\n",
    "\n",
    "\n",
    "Name   :MAMATA V LOHAR\n",
    "\n",
    "S/D/W of:VISHVANATH LOHAR \n",
    "\n",
    "Add :A/P-H.N0.1523 PURATWADI, \n",
    "\n",
    "TAL-LANJA DIST-RATNAGIRI\n",
    "\n",
    "\n",
    "\n",
    "\n",
    "\n",
    "PIN \n",
    "\n",
    "Signature & ID of                                 Signature/Thumb \n",
    "\n",
    "Issuing Authority: MH08 201130                    Impression of Holder\"\"\""
   ]
  },
  {
   "cell_type": "code",
   "execution_count": 20,
   "metadata": {},
   "outputs": [
    {
     "name": "stdout",
     "output_type": "stream",
     "text": [
      "[]\n",
      "['05-04-1991']\n"
     ]
    }
   ],
   "source": [
    "import re\n",
    "\n",
    "# a=open(\"D:\\Velocity Corporate Training\\Python\\Picture 002.txt\",'r')\n",
    "# #print(a)\n",
    "# text=a.read()\n",
    "\n",
    "input_list=text.split(\"\\n\")\n",
    "# print(text)\n",
    "\n",
    "for i,line in enumerate(input_list):\n",
    "#     print(line)\n",
    "    if any(re.findall(\"YOB|DOB|Year of birth|DOI|DOE\",line,re.IGNORECASE)):\n",
    "        \n",
    "        date=re.findall(\"[0-9]{1,2}[/ -][A-za-z0-9]{1,3}[/ -][0-9]{2,4}\",line)\n",
    "        print(date)"
   ]
  },
  {
   "cell_type": "code",
   "execution_count": null,
   "metadata": {},
   "outputs": [],
   "source": [
    "stre=\"nikhil pai born on 02/02/1987 and current date is 15:August:2021\"\n",
    "exp=r'[0-9]{1,2}[/-:][A-Z a-z 0-9]{1,12}[/-:][0-9]{2,4}'\n",
    "x=re.findall(exp,stre)\n",
    "print(x)"
   ]
  },
  {
   "cell_type": "code",
   "execution_count": null,
   "metadata": {},
   "outputs": [],
   "source": []
  }
 ],
 "metadata": {
  "kernelspec": {
   "display_name": "Python 3",
   "language": "python",
   "name": "python3"
  },
  "language_info": {
   "codemirror_mode": {
    "name": "ipython",
    "version": 3
   },
   "file_extension": ".py",
   "mimetype": "text/x-python",
   "name": "python",
   "nbconvert_exporter": "python",
   "pygments_lexer": "ipython3",
   "version": "3.8.8"
  }
 },
 "nbformat": 4,
 "nbformat_minor": 2
}
